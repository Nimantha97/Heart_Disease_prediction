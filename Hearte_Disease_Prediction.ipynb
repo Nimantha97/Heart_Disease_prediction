{
 "cells": [
  {
   "cell_type": "code",
   "execution_count": 14,
   "id": "972d5f6b",
   "metadata": {},
   "outputs": [],
   "source": [
    "import numpy as np\n",
    "import pandas as pd\n",
    "from sklearn.model_selection import train_test_split\n",
    "from sklearn.linear_model import LogisticRegression\n",
    "from sklearn.metrics import accuracy_score\n"
   ]
  },
  {
   "cell_type": "code",
   "execution_count": 24,
   "id": "b64aee27",
   "metadata": {},
   "outputs": [
    {
     "data": {
      "text/html": [
       "<div>\n",
       "<style scoped>\n",
       "    .dataframe tbody tr th:only-of-type {\n",
       "        vertical-align: middle;\n",
       "    }\n",
       "\n",
       "    .dataframe tbody tr th {\n",
       "        vertical-align: top;\n",
       "    }\n",
       "\n",
       "    .dataframe thead th {\n",
       "        text-align: right;\n",
       "    }\n",
       "</style>\n",
       "<table border=\"1\" class=\"dataframe\">\n",
       "  <thead>\n",
       "    <tr style=\"text-align: right;\">\n",
       "      <th></th>\n",
       "      <th>male</th>\n",
       "      <th>age</th>\n",
       "      <th>currentSmoker</th>\n",
       "      <th>cigsPerDay</th>\n",
       "      <th>BPMeds</th>\n",
       "      <th>prevalentHyp</th>\n",
       "      <th>totChol</th>\n",
       "      <th>diaBP</th>\n",
       "      <th>BMI</th>\n",
       "      <th>heartRate</th>\n",
       "      <th>glucose</th>\n",
       "      <th>target</th>\n",
       "    </tr>\n",
       "  </thead>\n",
       "  <tbody>\n",
       "    <tr>\n",
       "      <th>0</th>\n",
       "      <td>1</td>\n",
       "      <td>39</td>\n",
       "      <td>0</td>\n",
       "      <td>0</td>\n",
       "      <td>0</td>\n",
       "      <td>0</td>\n",
       "      <td>195</td>\n",
       "      <td>70.0</td>\n",
       "      <td>26.97</td>\n",
       "      <td>80</td>\n",
       "      <td>77</td>\n",
       "      <td>0</td>\n",
       "    </tr>\n",
       "    <tr>\n",
       "      <th>1</th>\n",
       "      <td>0</td>\n",
       "      <td>46</td>\n",
       "      <td>0</td>\n",
       "      <td>0</td>\n",
       "      <td>0</td>\n",
       "      <td>0</td>\n",
       "      <td>250</td>\n",
       "      <td>81.0</td>\n",
       "      <td>28.73</td>\n",
       "      <td>95</td>\n",
       "      <td>76</td>\n",
       "      <td>0</td>\n",
       "    </tr>\n",
       "    <tr>\n",
       "      <th>2</th>\n",
       "      <td>1</td>\n",
       "      <td>48</td>\n",
       "      <td>1</td>\n",
       "      <td>20</td>\n",
       "      <td>0</td>\n",
       "      <td>0</td>\n",
       "      <td>245</td>\n",
       "      <td>80.0</td>\n",
       "      <td>25.34</td>\n",
       "      <td>75</td>\n",
       "      <td>70</td>\n",
       "      <td>0</td>\n",
       "    </tr>\n",
       "    <tr>\n",
       "      <th>3</th>\n",
       "      <td>0</td>\n",
       "      <td>61</td>\n",
       "      <td>1</td>\n",
       "      <td>30</td>\n",
       "      <td>0</td>\n",
       "      <td>1</td>\n",
       "      <td>225</td>\n",
       "      <td>95.0</td>\n",
       "      <td>28.58</td>\n",
       "      <td>65</td>\n",
       "      <td>103</td>\n",
       "      <td>1</td>\n",
       "    </tr>\n",
       "    <tr>\n",
       "      <th>4</th>\n",
       "      <td>0</td>\n",
       "      <td>46</td>\n",
       "      <td>1</td>\n",
       "      <td>23</td>\n",
       "      <td>0</td>\n",
       "      <td>0</td>\n",
       "      <td>285</td>\n",
       "      <td>84.0</td>\n",
       "      <td>23.10</td>\n",
       "      <td>85</td>\n",
       "      <td>85</td>\n",
       "      <td>0</td>\n",
       "    </tr>\n",
       "  </tbody>\n",
       "</table>\n",
       "</div>"
      ],
      "text/plain": [
       "   male  age  currentSmoker  cigsPerDay  BPMeds  prevalentHyp  totChol  diaBP  \\\n",
       "0     1   39              0           0       0             0      195   70.0   \n",
       "1     0   46              0           0       0             0      250   81.0   \n",
       "2     1   48              1          20       0             0      245   80.0   \n",
       "3     0   61              1          30       0             1      225   95.0   \n",
       "4     0   46              1          23       0             0      285   84.0   \n",
       "\n",
       "     BMI  heartRate  glucose  target  \n",
       "0  26.97         80       77       0  \n",
       "1  28.73         95       76       0  \n",
       "2  25.34         75       70       0  \n",
       "3  28.58         65      103       1  \n",
       "4  23.10         85       85       0  "
      ]
     },
     "execution_count": 24,
     "metadata": {},
     "output_type": "execute_result"
    }
   ],
   "source": [
    "data_set = pd.read_csv(\"data/heart_disease_data.csv\")\n",
    "data_set.head()\n"
   ]
  },
  {
   "cell_type": "code",
   "execution_count": 19,
   "id": "f9f5a678",
   "metadata": {},
   "outputs": [
    {
     "data": {
      "text/plain": [
       "(609, 12)"
      ]
     },
     "execution_count": 19,
     "metadata": {},
     "output_type": "execute_result"
    }
   ],
   "source": [
    "data_set.shape\n"
   ]
  },
  {
   "cell_type": "code",
   "execution_count": 25,
   "id": "e51b8ac5",
   "metadata": {},
   "outputs": [
    {
     "name": "stdout",
     "output_type": "stream",
     "text": [
      "<class 'pandas.core.frame.DataFrame'>\n",
      "RangeIndex: 609 entries, 0 to 608\n",
      "Data columns (total 12 columns):\n",
      " #   Column         Non-Null Count  Dtype  \n",
      "---  ------         --------------  -----  \n",
      " 0   male           609 non-null    int64  \n",
      " 1   age            609 non-null    int64  \n",
      " 2   currentSmoker  609 non-null    int64  \n",
      " 3   cigsPerDay     609 non-null    int64  \n",
      " 4   BPMeds         609 non-null    int64  \n",
      " 5   prevalentHyp   609 non-null    int64  \n",
      " 6   totChol        609 non-null    int64  \n",
      " 7   diaBP          609 non-null    float64\n",
      " 8   BMI            609 non-null    float64\n",
      " 9   heartRate      609 non-null    int64  \n",
      " 10  glucose        609 non-null    int64  \n",
      " 11  target         609 non-null    int64  \n",
      "dtypes: float64(2), int64(10)\n",
      "memory usage: 57.2 KB\n"
     ]
    }
   ],
   "source": [
    "#information of data\n",
    "data_set.info()\n"
   ]
  },
  {
   "cell_type": "code",
   "execution_count": 26,
   "id": "804621f6",
   "metadata": {},
   "outputs": [
    {
     "data": {
      "text/plain": [
       "male             0\n",
       "age              0\n",
       "currentSmoker    0\n",
       "cigsPerDay       0\n",
       "BPMeds           0\n",
       "prevalentHyp     0\n",
       "totChol          0\n",
       "diaBP            0\n",
       "BMI              0\n",
       "heartRate        0\n",
       "glucose          0\n",
       "target           0\n",
       "dtype: int64"
      ]
     },
     "execution_count": 26,
     "metadata": {},
     "output_type": "execute_result"
    }
   ],
   "source": [
    "#checking null values\n",
    "data_set.isnull().sum()"
   ]
  },
  {
   "cell_type": "code",
   "execution_count": 27,
   "id": "810fce9a",
   "metadata": {},
   "outputs": [
    {
     "data": {
      "text/plain": [
       "0    506\n",
       "1    103\n",
       "Name: target, dtype: int64"
      ]
     },
     "execution_count": 27,
     "metadata": {},
     "output_type": "execute_result"
    }
   ],
   "source": [
    "#checking the distribution of target data\n",
    "data_set['target'].value_counts()"
   ]
  },
  {
   "cell_type": "code",
   "execution_count": 30,
   "id": "5f6d89fb",
   "metadata": {},
   "outputs": [
    {
     "name": "stdout",
     "output_type": "stream",
     "text": [
      "     male  age  currentSmoker  cigsPerDay  BPMeds  prevalentHyp  totChol  \\\n",
      "0       1   39              0           0       0             0      195   \n",
      "1       0   46              0           0       0             0      250   \n",
      "2       1   48              1          20       0             0      245   \n",
      "3       0   61              1          30       0             1      225   \n",
      "4       0   46              1          23       0             0      285   \n",
      "..    ...  ...            ...         ...     ...           ...      ...   \n",
      "604     0   49              1           1       0             0      248   \n",
      "605     0   45              0           0       0             1      215   \n",
      "606     1   48              0           0       0             0      215   \n",
      "607     0   45              1          20       0             0      156   \n",
      "608     0   57              0           0       0             0      289   \n",
      "\n",
      "     diaBP    BMI  heartRate  glucose  \n",
      "0     70.0  26.97         80       77  \n",
      "1     81.0  28.73         95       76  \n",
      "2     80.0  25.34         75       70  \n",
      "3     95.0  28.58         65      103  \n",
      "4     84.0  23.10         85       85  \n",
      "..     ...    ...        ...      ...  \n",
      "604   79.0  21.60         85       74  \n",
      "605   82.0  25.92        100       75  \n",
      "606   81.0  24.87         76       76  \n",
      "607   83.0  22.02         68       78  \n",
      "608   74.0  18.64         66       69  \n",
      "\n",
      "[609 rows x 11 columns]\n"
     ]
    }
   ],
   "source": [
    "#spliting the features and targets\n",
    "data = data_set.drop(columns='target',axis=1)\n",
    "target = data_set['target']\n",
    "\n",
    "print(data)"
   ]
  },
  {
   "cell_type": "code",
   "execution_count": 35,
   "id": "383022bd",
   "metadata": {},
   "outputs": [],
   "source": [
    "#splits data into trainig and test data\n",
    "train_data,test_data,train_target,test_target = train_test_split(data,target,test_size=0.2,stratify=target,random_state=2)"
   ]
  },
  {
   "cell_type": "code",
   "execution_count": 37,
   "id": "8f1823e0",
   "metadata": {},
   "outputs": [
    {
     "name": "stdout",
     "output_type": "stream",
     "text": [
      "(609, 11) (487, 11) (122, 11) (487,) (122,)\n"
     ]
    }
   ],
   "source": [
    "print(data.shape,train_data.shape,test_data.shape,train_target.shape,test_target.shape)"
   ]
  },
  {
   "cell_type": "code",
   "execution_count": 40,
   "id": "ab72f756",
   "metadata": {},
   "outputs": [
    {
     "name": "stderr",
     "output_type": "stream",
     "text": [
      "C:\\Users\\GCV\\anaconda3\\lib\\site-packages\\sklearn\\linear_model\\_logistic.py:814: ConvergenceWarning: lbfgs failed to converge (status=1):\n",
      "STOP: TOTAL NO. of ITERATIONS REACHED LIMIT.\n",
      "\n",
      "Increase the number of iterations (max_iter) or scale the data as shown in:\n",
      "    https://scikit-learn.org/stable/modules/preprocessing.html\n",
      "Please also refer to the documentation for alternative solver options:\n",
      "    https://scikit-learn.org/stable/modules/linear_model.html#logistic-regression\n",
      "  n_iter_i = _check_optimize_result(\n"
     ]
    },
    {
     "data": {
      "text/plain": [
       "LogisticRegression()"
      ]
     },
     "execution_count": 40,
     "metadata": {},
     "output_type": "execute_result"
    }
   ],
   "source": [
    "#Model trainig by logistic regression model\n",
    "model = LogisticRegression()\n",
    "model.fit(train_data,train_target)#try to find relationship between data and target\n",
    "\n"
   ]
  },
  {
   "cell_type": "markdown",
   "id": "afe67c77",
   "metadata": {},
   "source": [
    "\n"
   ]
  },
  {
   "cell_type": "code",
   "execution_count": 42,
   "id": "94985eac",
   "metadata": {},
   "outputs": [
    {
     "name": "stdout",
     "output_type": "stream",
     "text": [
      "Accuracy on train data :  0.8295687885010267\n"
     ]
    }
   ],
   "source": [
    "#model evaluvation -- accuracy Score\n",
    "\n",
    "#accuracy on (feature)data\n",
    "train_data_prediction = model.predict(train_data)\n",
    "tarin_data_accuracy = accuracy_score(train_data_prediction,train_target)\n",
    "\n",
    "print('Accuracy on train data : ',tarin_data_accuracy)"
   ]
  },
  {
   "cell_type": "code",
   "execution_count": 43,
   "id": "690bb1d7",
   "metadata": {},
   "outputs": [
    {
     "name": "stdout",
     "output_type": "stream",
     "text": [
      "Accuracy on test data :  0.819672131147541\n"
     ]
    }
   ],
   "source": [
    "#accuracy on test data\n",
    "test_data_prediction = model.predict(test_data)\n",
    "test_data_accuracy = accuracy_score(test_data_prediction,test_target)\n",
    "\n",
    "print('Accuracy on test data : ',test_data_accuracy)"
   ]
  },
  {
   "cell_type": "code",
   "execution_count": 48,
   "id": "e55ad30c",
   "metadata": {},
   "outputs": [
    {
     "name": "stdout",
     "output_type": "stream",
     "text": [
      "[0]\n",
      "The person doesnt have heart diseas\n"
     ]
    },
    {
     "name": "stderr",
     "output_type": "stream",
     "text": [
      "C:\\Users\\GCV\\anaconda3\\lib\\site-packages\\sklearn\\base.py:450: UserWarning: X does not have valid feature names, but LogisticRegression was fitted with feature names\n",
      "  warnings.warn(\n"
     ]
    }
   ],
   "source": [
    "#model predicting\n",
    "\n",
    "input_data = (1,52,0,0,0,1,260,89,26.36,76,79)\n",
    "input_array = np.asarray(input_data).reshape(1,-1)\n",
    "\n",
    "prediction = model.predict(input_array)\n",
    "print(prediction)\n",
    "\n",
    "if(prediction[0]== 0):\n",
    "    print(\"The person doesnt have heart diseas\")\n",
    "    \n",
    "else:\n",
    "    print(\"The person has heart diseas\")\n",
    "\n"
   ]
  },
  {
   "cell_type": "code",
   "execution_count": null,
   "id": "d3ba51b2",
   "metadata": {},
   "outputs": [],
   "source": []
  }
 ],
 "metadata": {
  "kernelspec": {
   "display_name": "Python 3 (ipykernel)",
   "language": "python",
   "name": "python3"
  },
  "language_info": {
   "codemirror_mode": {
    "name": "ipython",
    "version": 3
   },
   "file_extension": ".py",
   "mimetype": "text/x-python",
   "name": "python",
   "nbconvert_exporter": "python",
   "pygments_lexer": "ipython3",
   "version": "3.9.12"
  }
 },
 "nbformat": 4,
 "nbformat_minor": 5
}
